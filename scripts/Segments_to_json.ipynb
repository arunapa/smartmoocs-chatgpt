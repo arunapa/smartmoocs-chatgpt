{
  "nbformat": 4,
  "nbformat_minor": 0,
  "metadata": {
    "colab": {
      "provenance": []
    },
    "kernelspec": {
      "name": "python3",
      "display_name": "Python 3"
    },
    "language_info": {
      "name": "python"
    }
  },
  "cells": [
    {
      "cell_type": "code",
      "execution_count": null,
      "metadata": {
        "colab": {
          "base_uri": "https://localhost:8080/"
        },
        "id": "8P3SsJax1DaK",
        "outputId": "8e944170-5db8-4ad4-c2c6-616494ec0e59"
      },
      "outputs": [
        {
          "output_type": "stream",
          "name": "stdout",
          "text": [
            "Drive already mounted at /content/drive; to attempt to forcibly remount, call drive.mount(\"/content/drive\", force_remount=True).\n"
          ]
        }
      ],
      "source": [
        "from google.colab import drive\n",
        "drive.mount('/content/drive')"
      ]
    },
    {
      "cell_type": "code",
      "source": [
        "import time\n",
        "import json\n",
        "import tqdm\n",
        "import os"
      ],
      "metadata": {
        "id": "VjFtEie21HuS"
      },
      "execution_count": null,
      "outputs": []
    },
    {
      "cell_type": "code",
      "source": [
        "folder = 'drive/MyDrive/mooc_transcript_data/transcripts_mintxt/mooc1_textretrieval_mintxt/'\n",
        "\n",
        "my_json = open('drive/MyDrive/mooc_transcript_data/segments.json', \"w\")\n",
        "\n",
        "for file in os.listdir(folder):\n",
        "  f = open(folder + file, \"r\")\n",
        "\n",
        "  contents = f.read()\n",
        "\n",
        "  contents = contents.replace(\"\\n\", \" \")\n",
        "  contents = contents.replace(\"[SOUND]\", \"\")\n",
        "  contents = contents.replace(\"[MUSIC]\", \"\")\n",
        "  contents = contents.replace(\"[NOISE]\", \"\")\n",
        "\n",
        "  segments = contents.split(\"||\")\n",
        "\n",
        "  for i in range(len(segments)):\n",
        "    segments[i] = segments[i].strip()\n",
        "  \n",
        "  my_json.write(\"\\\"\" + file + \"\\\"\" + \": \")\n",
        "  my_json.write(str(segments))\n",
        "  my_json.write(\"\\n\")\n",
        "\n",
        "  print(len(segments))\n",
        "    \n",
        "my_json.close()"
      ],
      "metadata": {
        "colab": {
          "base_uri": "https://localhost:8080/"
        },
        "id": "T2tB_XIr1O4r",
        "outputId": "7b871edc-da1f-4a2e-ab49-65c08f507194"
      },
      "execution_count": null,
      "outputs": [
        {
          "output_type": "stream",
          "name": "stdout",
          "text": [
            "4\n",
            "10\n",
            "10\n",
            "9\n",
            "11\n",
            "26\n",
            "17\n",
            "17\n",
            "18\n",
            "10\n",
            "10\n",
            "18\n",
            "10\n",
            "17\n",
            "16\n",
            "13\n",
            "21\n",
            "11\n",
            "13\n",
            "15\n",
            "12\n",
            "12\n",
            "13\n",
            "10\n",
            "18\n",
            "7\n",
            "10\n",
            "12\n",
            "10\n",
            "11\n",
            "17\n",
            "5\n",
            "19\n",
            "17\n",
            "6\n",
            "13\n",
            "6\n",
            "7\n",
            "10\n",
            "13\n",
            "12\n",
            "10\n",
            "5\n",
            "11\n",
            "21\n"
          ]
        }
      ]
    },
    {
      "cell_type": "code",
      "source": [
        "for file in os.listdir(folder):\n",
        "  print(file)"
      ],
      "metadata": {
        "colab": {
          "base_uri": "https://localhost:8080/"
        },
        "id": "J4Z0STpg1vUz",
        "outputId": "4c2b3850-06ff-4c27-a22c-daa12b4f461c"
      },
      "execution_count": null,
      "outputs": [
        {
          "output_type": "stream",
          "name": "stdout",
          "text": [
            "1 - 1 - Course Welcome (00-03-11).txt\n",
            "2 - 4 - 1.4 Overview of Text Retrieval Methods (00-10-10).txt\n",
            "2 - 5 - 1.5 Vector Space Model- Basic Idea (00-09-44).txt\n",
            "2 - 2 - 1.2 Text Access (00-09-24).txt\n",
            "1 - 2 - Course Introduction (00-10-45).txt\n",
            "2 - 3 - 1.3 Text Retrieval Problem (00-26-18).txt\n",
            "2 - 7 - 1.7 Vector Space Model- Improved Instantiation (00-16-52).txt\n",
            "2 - 6 - 1.6 Vector Space Model- Simplest Instantiation (00-17-30).txt\n",
            "2 - 9 - 1.9 Doc Length Normalization (00-18-56).txt\n",
            "2 - 8 - 1.8 TF Transformation (00-09-31).txt\n",
            "3 - 7 - 2.6 Evaluation of TR Systems- Evaluating Ranked Lists Part 2 (00-10-01) .txt\n",
            "3 - 2 - 2.2 System Implementation- Inverted Index Construction (00-18-21).txt\n",
            "3 - 4 - 2.4 Evaluation of TR Systems (00-10-10).txt\n",
            "3 - 3 - 2.3 System Implementation- Fast Search (00-17-11).txt\n",
            "3 - 6 - 2.6 Evaluation of TR Systems- Evaluating Ranked Lists Part 1 (00-12-51).txt\n",
            "3 - 5 - 2.5 Evaluation of TR Systems- Basic Measures (00-12-54).txt\n",
            "3 - 1 - 2.1 Implementation of TR Systems (00-21-27).txt\n",
            "3 - 8 - 2.7 Evaluation of TR Systems- Multi-Level Judgements (00-10-48).txt\n",
            "4 - 1 - 3.1 Probabilistic Retrieval Model- Basic Idea (00-12-44).txt\n",
            "3 - 9 - 2.8 Evaluation of TR Systems- Practical Issues (00-15-14).txt\n",
            "4 - 9 - 3.7 Feedback in Vector Space Model- Rocchio (00-12-05).txt\n",
            "4 - 4 - 3.4 Smoothing of Language Model - Part 1 (00-12-15).txt\n",
            "4 - 7 - 3.5 Smoothing Methods Part - 2 (00-13-17).txt\n",
            "4 - 6 - 3.5 Smoothing Methods Part - 1 (00-09-54).txt\n",
            "4 - 2 - 3.2 Statistical Language Models (00-17-53) .txt\n",
            "4 - 8 - 3.6 Feedback in Text Retrieval (00-06-49).txt\n",
            "4 - 5 - 3.4 Smoothing of Language Model - Part 2 (00-09-36).txt\n",
            "4 - 3 - 3.3 Query Likelihood Retrieval Function (00-12-07).txt\n",
            "5 - 3 - 4.3 Link Analysis - Part 1 (00-09-16).txt\n",
            "5 - 1 - 4.1 Web Search- Introduction & Web Crawler (00-11-05).txt\n",
            "5 - 2 - 4.2 Web Indexing (00-17-19).txt\n",
            "5 - 8 - 4.4 Learning to Rank - Part 3 (00-04-58).txt\n",
            "4 - 10 - 3.8 Feedback in Text Retrieval- Feedback in LM (00-19-11).txt\n",
            "5 - 4 - 4.3 Link Analysis - Part 2 (00-17-30).txt\n",
            "5 - 5 - 4.3 Link Analysis - Part 3 (00-05-59).txt\n",
            "5 - 9 - 4.5 Future of Web Search (00-13-09).txt\n",
            "5 - 6 - 4.4 Learning to Rank Part 1 (00-13-09).txt\n",
            "5 - 12 - 4.7 Recommender Systems- Collaborative Filtering - Part 1 (00-06-20).txt\n",
            "5 - 7 - 4.4 Learning to Rank - Part 2 (00-05-54).txt\n",
            "5 - 10 - 4.6 Recommender Systems- Content-based Filtering - Part 1  (00-12-55).txt\n",
            "5 - 13 - 4.7 Recommender Systems- Collaborative Filtering - Part 2 (00-12-09).txt\n",
            "5 - 15 - 4.8 Course Summary (00-09-48).txt\n",
            "5 - 14 - 4.7 Recommender Systems- Collaborative Filtering - Part 3 (00-04-45).txt\n",
            "5 - 11 - 4.6  Recommender Systems- Content-based Filtering - Part 2 (00-10-42).txt\n",
            "2 - 1 - 1.1 Natural Language Content Analysis (00-21-05).txt\n"
          ]
        }
      ]
    },
    {
      "cell_type": "code",
      "source": [],
      "metadata": {
        "id": "_atM5O1z7r4w"
      },
      "execution_count": null,
      "outputs": []
    }
  ]
}